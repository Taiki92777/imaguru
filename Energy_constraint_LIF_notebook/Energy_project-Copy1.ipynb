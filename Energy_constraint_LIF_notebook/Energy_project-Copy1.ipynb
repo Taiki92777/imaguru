{
 "cells": [
  {
   "cell_type": "markdown",
   "metadata": {
    "colab_type": "text",
    "id": "kLK5czvnzXtg"
   },
   "source": [
    "# Energy dependent neural model\n",
    "Ismael Jaras (Universidad de Chile, Neurosistemas)\n",
    "\n",
    "Taiki Harada (Tokyo Medical and Dental University)"
   ]
  },
  {
   "cell_type": "code",
   "execution_count": 1,
   "metadata": {
    "colab": {
     "base_uri": "https://localhost:8080/",
     "height": 211
    },
    "colab_type": "code",
    "id": "32aln9DTCs83",
    "outputId": "1edecc5a-42dd-40a2-c662-41bf3d0e6cc2"
   },
   "outputs": [
    {
     "name": "stdout",
     "output_type": "stream",
     "text": [
      "Requirement already satisfied: NeuroTools in c:\\users\\taiki\\appdata\\local\\programs\\python\\python37\\lib\\site-packages (0.3.1)\n",
      "Note: you may need to restart the kernel to use updated packages.\n"
     ]
    },
    {
     "name": "stderr",
     "output_type": "stream",
     "text": [
      "WARNING: You are using pip version 19.2.2, however version 19.3.1 is available.\n",
      "You should consider upgrading via the 'python -m pip install --upgrade pip' command.\n"
     ]
    }
   ],
   "source": [
    "pip install NeuroTools"
   ]
  },
  {
   "cell_type": "code",
   "execution_count": 2,
   "metadata": {},
   "outputs": [
    {
     "name": "stdout",
     "output_type": "stream",
     "text": [
      "Requirement already satisfied: seaborn in c:\\users\\taiki\\appdata\\local\\programs\\python\\python37\\lib\\site-packages (0.9.0)\n",
      "Requirement already satisfied: matplotlib>=1.4.3 in c:\\users\\taiki\\appdata\\local\\programs\\python\\python37\\lib\\site-packages (from seaborn) (3.1.0)\n",
      "Requirement already satisfied: scipy>=0.14.0 in c:\\users\\taiki\\appdata\\local\\programs\\python\\python37\\lib\\site-packages (from seaborn) (1.3.0)\n",
      "Requirement already satisfied: pandas>=0.15.2 in c:\\users\\taiki\\appdata\\local\\programs\\python\\python37\\lib\\site-packages (from seaborn) (0.25.0)\n",
      "Requirement already satisfied: numpy>=1.9.3 in c:\\users\\taiki\\appdata\\local\\programs\\python\\python37\\lib\\site-packages (from seaborn) (1.16.3)\n",
      "Requirement already satisfied: pyparsing!=2.0.4,!=2.1.2,!=2.1.6,>=2.0.1 in c:\\users\\taiki\\appdata\\local\\programs\\python\\python37\\lib\\site-packages (from matplotlib>=1.4.3->seaborn) (2.4.0)\n",
      "Requirement already satisfied: python-dateutil>=2.1 in c:\\users\\taiki\\appdata\\local\\programs\\python\\python37\\lib\\site-packages (from matplotlib>=1.4.3->seaborn) (2.8.0)\n",
      "Requirement already satisfied: cycler>=0.10 in c:\\users\\taiki\\appdata\\local\\programs\\python\\python37\\lib\\site-packages (from matplotlib>=1.4.3->seaborn) (0.10.0)\n",
      "Requirement already satisfied: kiwisolver>=1.0.1 in c:\\users\\taiki\\appdata\\local\\programs\\python\\python37\\lib\\site-packages (from matplotlib>=1.4.3->seaborn) (1.1.0)\n",
      "Requirement already satisfied: pytz>=2017.2 in c:\\users\\taiki\\appdata\\local\\programs\\python\\python37\\lib\\site-packages (from pandas>=0.15.2->seaborn) (2019.1)\n",
      "Requirement already satisfied: six>=1.5 in c:\\users\\taiki\\appdata\\roaming\\python\\python37\\site-packages (from python-dateutil>=2.1->matplotlib>=1.4.3->seaborn) (1.12.0)\n",
      "Requirement already satisfied: setuptools in c:\\users\\taiki\\appdata\\local\\programs\\python\\python37\\lib\\site-packages (from kiwisolver>=1.0.1->matplotlib>=1.4.3->seaborn) (41.0.1)\n",
      "Note: you may need to restart the kernel to use updated packages.\n"
     ]
    },
    {
     "name": "stderr",
     "output_type": "stream",
     "text": [
      "WARNING: You are using pip version 19.2.2, however version 19.3.1 is available.\n",
      "You should consider upgrading via the 'python -m pip install --upgrade pip' command.\n"
     ]
    }
   ],
   "source": [
    "pip install seaborn"
   ]
  },
  {
   "cell_type": "code",
   "execution_count": 3,
   "metadata": {
    "colab": {
     "base_uri": "https://localhost:8080/",
     "height": 104
    },
    "colab_type": "code",
    "id": "lDeCaNQnw_bu",
    "outputId": "40dffcbe-895f-43c6-e297-d6d5d17b20b0"
   },
   "outputs": [
    {
     "name": "stderr",
     "output_type": "stream",
     "text": [
      "c:\\users\\taiki\\appdata\\local\\programs\\python\\python37\\lib\\site-packages\\NeuroTools\\__init__.py:125: DependencyWarning: ** interval ** package is not installed.\n",
      "To have functions using interval please install the package.\n",
      "website : http://pypi.python.org/pypi/interval/1.0.0\n",
      "\n",
      "  warnings.warn(get_import_warning(name), DependencyWarning)\n"
     ]
    }
   ],
   "source": [
    "from pathlib import Path\n",
    "import os\n",
    "import pickle\n",
    "import numpy as np\n",
    "import math\n",
    "from NeuroTools.signals import AnalogSignal\n",
    "from NeuroTools.signals.spikes import SpikeTrain\n",
    "from tqdm import tqdm\n",
    "import matplotlib.pyplot as plt\n",
    "from mpl_toolkits.mplot3d import Axes3D\n",
    "import copy\n",
    "import random\n",
    "import seaborn as sns\n",
    "%matplotlib inline"
   ]
  },
  {
   "cell_type": "markdown",
   "metadata": {
    "colab_type": "text",
    "id": "8htjvHBJ0AhU"
   },
   "source": [
    "## Backgrounds\n",
    "\n",
    "The brain takes much cost of energy as the consumption occupies 20% of the whole human body's one . Neurons are requiring high energy demands and maitaining homehostatic ATP level. But if such a fundamental fucntion is corrupted, they get malfunctions leading to cell deaths which is strongly related to neurodegenerative diseases such as ALS, Parkinson disease and Alzheimer disease. So studying the effect of ATP on neural activities has a huge benefit on understanding machanisms underlying on such diseases. \n",
    "\n",
    "Almost all previous neural models have been ingnoring ATP kinetics inside or outside neurons while others were consdiering it in the level of single neurons but take too much running cost to simulate the network consisting of thousands of neurons (Le Masson, Neuro-glia energy feedback model). Actually there are a few models explaining ATP effect on neural network. But the problem is that they only think about Na/K ATPase's ATP consumtion while many articles about energy budget of neurons state about many neural activities such as housekeeping, Glutamate or GABA recycling and Ca activities, and didn't explain the relationship between ATP kinetics and membrane potential. According to Le Masson model, during the deficit of ATP, Na/K ATPase which is outruding sodium ions and intruding podium ions is inactivated and Ca buffering function is weakened causing high intracellular Ca level both of which make neurons more likely to fire leading to larger energy consumption and cell's death. Furthermore other articles about neurodegenerative disease or mitochondrial dysfunction mentioned that too much increment in intracellular Ca generated by such buffering paralyzation and high Ca intrusion on voltage-dependent Ca channels which is usually functioning as the modulator for timing and the efficacy of neurotransmitters on presynaptic terminals and on postsynapses caused by high activity of presynapses also malfunctions mitochondria which supplies ATP, and leads to serious energy deficit. For these reasons, ATP has a huge impact on neural activities. \n",
    "\n",
    "To observe the ATP impact on individual neurons and on neural network, as a first step, we described the ATP kinetics calculating each energy demand of each neural activities and combined its effect to membrane potential focusing on Na/K ATPase inactivation. To build up relatively simple neural model by which we can simulate a bunch of neurons, we constructed our model based on leaky integrate-and-fire model which is the simplest model and optimized the parameters using Particle Swarm Optimization method. Finally we could observe much better performances than leaky integrate-and-fire model and concluded our assumption about Na/K pump inactivation is a fundamental factor of spike generations. Also, during serious energy deficit, we could reproduce the high excitability of neurons and in a extreme case, the intracellular ATP level went down to 0 indicating the cell's death."
   ]
  },
  {
   "cell_type": "markdown",
   "metadata": {
    "colab_type": "text",
    "id": "NQTnIHVMZ3yx"
   },
   "source": [
    "##Leaky integrate-and-fire model\n",
    "$C_m\\frac{dV_m}{dt}=-g_{leak}(V_m-E_{leak})+Input$\n",
    "\n",
    "As you can see above, this model is the simplest one explaning only RC circuit.\n",
    "\n",
    "If membrane potential $V_m$ reaches to the threshold $V_{th}$, a neuron fires ($V_m$-->$V_{ap}$). \n",
    "\n",
    "After the spike, the potential is reset to the reset potential $V_{reset}$.\n"
   ]
  },
  {
   "cell_type": "code",
   "execution_count": 4,
   "metadata": {
    "colab": {},
    "colab_type": "code",
    "id": "--peQgm4k07r"
   },
   "outputs": [],
   "source": [
    "class lif:\n",
    "    def __init__(self,I_ext=[],dt=1,sim_time=0,V=-65,V_res=-70,EL=-70,c_m=281,g_leak=30,V_th=-50,V_ap=40,t_ref=2.5):\n",
    "        # injected current\n",
    "        self.I_ext=I_ext\n",
    "\n",
    "        # hyper parameters\n",
    "        self.sim_time=sim_time\n",
    "        \n",
    "        # major variables\n",
    "        self.V=V  # mV\n",
    "        self.V_res=V_res\n",
    "        self.EL=EL\n",
    "        self.V_th=V_th  # mV\n",
    "        self.V_ap=V_ap  # mV\n",
    "        \n",
    "        self.t_ref=t_ref  # s\n",
    "        \n",
    "        # about time\n",
    "        self.sim_time=sim_time\n",
    "        self.dt=dt\n",
    "        self.resttime=0\n",
    "        \n",
    "        # logs\n",
    "        self.V_log=[]\n",
    "        self.Input_log=[]\n",
    "        self.fire_count=[] # the time of spikes\n",
    "        \n",
    "        # C & g of soma\n",
    "        self.C_m=c_m \n",
    "        self.g_leak=g_leak\n",
    "        self.tau_m=c_m/g_leak\n",
    "\n",
    "    def grad_V(self,V,Input):\n",
    "        #return (-self.g_leak/self.C_m*(V-self.V_res)+Input/self.C_m)\n",
    "        return (-(V-self.EL) + Input/self.g_leak)/(self.tau_m)*1000 \n",
    "    \n",
    "    def train(self,t):\n",
    "        return self.I_ext[int(t/self.dt)]\n",
    "\n",
    "    def Input_func(self,t):\n",
    "        self.Input_log.append(self.train(t))\n",
    "    \n",
    "    def simulate_onestep(self,t,dt):\n",
    "        self.V_log.append(self.V)\n",
    "        self.dt=dt\n",
    "        self.Input_func(t)\n",
    "        \n",
    "        # during refractory time\n",
    "        if self.resttime>0:\n",
    "            self.resttime-=1\n",
    "                    \n",
    "        \n",
    "        else:\n",
    "            # subthreshold\n",
    "            if self.V<self.V_ap:\n",
    "                x=self.V+self.grad_V(self.V,self.Input_log[-1])*dt*0.001\n",
    "                \n",
    "                # fire\n",
    "                if x>=self.V_th:\n",
    "                    # describe each release site's activity\n",
    "                    self.V=self.V_ap\n",
    "                    self.fire_count.append(t/1000)\n",
    "                    \n",
    "                    \n",
    "                # subthreshold dynamics    \n",
    "                else:\n",
    "                    self.V=x\n",
    "                    \n",
    "            # reset         \n",
    "            else:\n",
    "                self.V=self.V_res\n",
    "                self.resttime=self.t_ref/dt\n",
    "        \n",
    "                "
   ]
  },
  {
   "cell_type": "markdown",
   "metadata": {
    "colab_type": "text",
    "id": "CUJOa0VMebMF"
   },
   "source": [
    "##Energy-dependent leaky integrate-and-fire model\n",
    "Our single neural model is based on Leaky-Integrate-Fire model. If membrane potential ($V_m$) of j-th neuron's soma is under the threshold potential ($V_{th}$), the dynamics of membrane potential can be described by the following differential equation:\n",
    "\\begin{equation}\n",
    "    C_m\\cdot \\frac{dV_m}{dt}=-g_{leak}\\cdot (V_m-E_{leak})+Input\n",
    "\\end{equation}\n",
    "with $C_m$ representing the membrane capacitance $[pF]$, $g_{leak}$ representing the membrane conductance $[nS]$ and $E_{leak}$ the reversal potential of membrane $[mV]$. $Input$ denotes the amount of injected current.\n",
    "\n",
    "If $V_m$ exceeds the $V_{th}$, a neuron spikes and $V_m$ reaches to the peak potential ($V_{ap}$). After a spike, $V_m$ is reset immediately to the reset potential ($V_{reset}$). In our model, motivated by Leaky integrate and fire model with partial reset we take this value as a variable dependent on neural state and this value is calculated by this equation:\n",
    "\\begin{equation}\n",
    "    V_{reset}=\\beta\\cdot V_{th}  \n",
    "\\end{equation}\n",
    "where $1 \\leq \\beta \\leq \\frac{V_{res}}{V_{th}}$ and $V_{res}$ is the resting potential. In our model, we assume that the lack of intracellular ATP makes a neuron more likely to fire inactivating $Na^+/K^+ ATPase$s which extrude 3 sodium ions and intrude 2 podium ions per 1 ATP molecule shown previously by \"A Computational Model of Motor Neuron Degeneration\". And we define $\\beta$ as a function whose variable is the concentration level of intracellular ATP ($[ATP](t)$) by this equation:\n",
    "\\begin{equation}\n",
    "\\alpha=\\frac{V_{reset}}{V_{th}}-1\n",
    "\\end{equation}\n",
    "\n",
    "\\begin{equation}\n",
    "\\beta(ATP)=alpha\\cdot(2-(\\frac{2}{1+e^{-\\frac{ATP_h-ATP}{ATP_h}\\cdot sensitivity}}))\n",
    "\\end{equation}\n",
    "In neural activities, a neuron consumes ATP and also maintain the energy balance. According to previous articles, such energy demands contain \\textit{signaling} process ($E_{signaling}$)and \\textit{non-signaling} one ($E_{nonsignaling}$). Each process is also divided into more specific one. \\textit{signaling} process includes energy demands for action potential ($E_{AP}$), synaptic transmission ($E_{ST}$), glutamate or GABA recycling ($E_{glu}$,$E_{GABA}$) and calcium activity ($E_{Ca}$). \\textit{non-signaling} process includes energy demands for house-keeping ($E_{HK}$) and resting potential maintenance ($E_{RP}$). We assume that $E_{HK}$ is always consumed and $E_{RP}$ is consumed except when a neuron fires. The amount of these \\textit{non-signaling} is supposed to be constant, and thus we don't consider time-delay of consuming such types of energy demands. On the other hand, we should consider time-delay when it comes to \\textit{signaling} process which is triggered by each action potential, because many biochemical reactions in synaptic transmission, such as synaptic vesicle cycling and the binding of neuromodulators to receptors are not instantaneously completed, the metabolic energy does not suddenly decrease due to the transmission of action potentials. Here, to describe this time-delay, we use an exponential function like a previous article\\cite{energy_constraints_china} as below:\n",
    "\\begin{equation}\n",
    "    rate(t)=\\frac{(t-t_0)}{\\tau^2}\\cdot e^{-\\frac{(t-t_0)}{\\tau}}\n",
    "\\end{equation}\n",
    "where in case of $E_{AP}$, $t_0$ means the time when the spike is generated at the axonal initital segment while in case of others which are related to synaptic transmission, it means the time when an action potential is transmitted in the form of synaptic tranmitters to postsynapses. Note that regardless of the value of $\\tau$, the total of this function ($t_0\\leqq t\\leqq \\infty$) is equal to 1. So all we have to do to calculate the energy demand at each time is multiply each total amount of it to this rate. In addition, the total amount of each \\textit{signaling} energy demand is already estimated by previous articles. Each energy demand can takes different values dependent on excitatory synapses or inhibitory ones. \n",
    "After calculating the amount of energy consumption at each time ($ATP_{use}(t)$) [mol/s], a neuron uses the amount and mitochondrias supply ATP to maintain energy balance simultaneously. We define the amount of ATP supply [mol/L$\\cdot$s] at time $t$ following below:\n",
    "\\begin{equation}\n",
    "    [ATP]_{supply}(t)=K\\cdot ([ATP]_h-[ATP](t))\n",
    "\\end{equation}\n",
    "where $K$ means the \"recovery rate\" ([/ms]) and $[ATP]_h$ means the homeostatic level of the concentration level of intracellular ATP. So the differential equtation of $[ATP](t)$ can be described as below:\n",
    "\\begin{equation}\n",
    "    \\frac{d[ATP](t)}{dt}=[ATP]_{supply}(t)-\\frac{ATP_{use}(t)}{Vol} \n",
    "\\end{equation}\n",
    "$Vol$ is the volume of a neuron. \n",
    "\n",
    "This ATP dynamics as we mentioned above is strongly related to the morphological features, and thus each energy demand should vary with them. But as a first step, we fixed the morphological features shown on the \"Evaluating the gray and white matter energy budgets of human brain function\" article."
   ]
  },
  {
   "cell_type": "markdown",
   "metadata": {
    "colab_type": "text",
    "id": "RdJer9mwa40r"
   },
   "source": [
    "###$\\beta(ATP)$\n",
    "$\\alpha=\\frac{V_{reset}}{V_{th}}-1$\n",
    "\n",
    "$\\beta(ATP)=1+\\alpha\\cdot(2-(\\frac{2}{1+e^{-\\frac{ATP_h-ATP}{ATP_h}\\cdot sensitivity}}))$\n",
    "\n",
    "$ATP_h$ and $sensitivity$ denote the homehostatic level of ATP and the degree of change of reset potential respectively.\n",
    "\n",
    "Note that if $sensitivity$ increases, the sharpness of this sigmoid-like curve becomes strong, furthermore huge $sensitivity$ makes this step-like function."
   ]
  },
  {
   "cell_type": "code",
   "execution_count": 5,
   "metadata": {
    "colab": {
     "base_uri": "https://localhost:8080/",
     "height": 249
    },
    "colab_type": "code",
    "id": "YsLir-0DO1av",
    "outputId": "ccc6ed60-193e-482a-ca95-a512ee49fefa"
   },
   "outputs": [
    {
     "data": {
      "image/png": "[encoded data removed]",
      "text/plain": [
       "<Figure size 432x288 with 1 Axes>"
      ]
     },
     "metadata": {
      "needs_background": "light"
     },
     "output_type": "display_data"
    }
   ],
   "source": [
    "V_th=-50\n",
    "V_res=-70\n",
    "scale_alpha=V_res/V_th-1\n",
    "ATP_h=1e-4\n",
    "\n",
    "def beta(ATP,sensitivity):\n",
    "  return 1+scale_alpha*(2-(2/(1+np.exp(-(ATP_h-ATP)/ATP_h*sensitivity))))\n",
    "\n",
    "aa=np.arange(9.5e-5,1.05e-4,1e-7)\n",
    "ss=np.arange(300,1300,1)\n",
    "xv,yv=np.meshgrid(aa,ss)\n",
    "bb=beta(xv,yv)*V_th\n",
    "ax1=plt.axes(projection='3d')\n",
    "ax1.set_title('ATP dependent $V_{reset}$')\n",
    "ax1.set_xlabel('Available ATP ratio')\n",
    "ax1.set_ylabel('Sensitivity')\n",
    "ax1.set_zlabel('$V_{reset}$')\n",
    "ax1.plot_wireframe(xv/ATP_h,yv,bb,linewidth=0.5)\n",
    "plt.show()"
   ]
  },
  {
   "cell_type": "code",
   "execution_count": 6,
   "metadata": {
    "colab": {
     "base_uri": "https://localhost:8080/",
     "height": 289
    },
    "colab_type": "code",
    "id": "vwm4fBxjASih",
    "outputId": "3df10cf9-7a12-4398-c8ad-b13fcea3775e"
   },
   "outputs": [
    {
     "data": {
      "text/plain": [
       "<matplotlib.axes._subplots.AxesSubplot at 0x23b88010ba8>"
      ]
     },
     "execution_count": 6,
     "metadata": {},
     "output_type": "execute_result"
    },
    {
     "data": {
      "image/png": "[encoded data removed]",
      "text/plain": [
       "<Figure size 432x288 with 2 Axes>"
      ]
     },
     "metadata": {
      "needs_background": "light"
     },
     "output_type": "display_data"
    }
   ],
   "source": [
    "bbbb=np.zeros((len(ss),len(aa)))\n",
    "for a in range(len(aa)):\n",
    "  for s in range(len(ss)):\n",
    "    bbbb[s,a]=beta(aa[a],ss[s])\n",
    "sns.heatmap(bbbb*V_th)"
   ]
  },
  {
   "cell_type": "code",
   "execution_count": 7,
   "metadata": {
    "colab": {},
    "colab_type": "code",
    "id": "P8asfkGte5kE"
   },
   "outputs": [],
   "source": [
    "class edlif:\n",
    "    def __init__(self,I_ext=[],neuron_type='E',dt=1,sim_time=0,delay_func=\"poisson\",\n",
    "                 K=1,ATP=10**(-4),ATP_h=10**(-4),half_step=False,sensitivity=10,\n",
    "                 V=-65,V_res=-70,EL=-70,c_m=281,g_leak=30,V_th=-50,V_ap=40,t_ref=2.5,tau_ap=50):\n",
    "        \n",
    "        # injected current\n",
    "        self.I_ext=I_ext\n",
    "\n",
    "        # Excitatory or inhibitory\n",
    "        self.neuron_type=neuron_type\n",
    "        \n",
    "        # hyper parameters\n",
    "        self.half_step=half_step\n",
    "        self.sim_time=sim_time\n",
    "        self.delay_func=delay_func\n",
    "        self.sensitivity=sensitivity\n",
    "        self.ATP_h=ATP_h # mol/L\n",
    "        self.K=K\n",
    "        \n",
    "        # major variables\n",
    "        self.ATP=ATP # mol/L\n",
    "        self.V=V  # mV\n",
    "        self.V_res=V_res\n",
    "        self.EL=EL\n",
    "        self.V_th=V_th  # mV\n",
    "        self.V_ap=V_ap  # mV\n",
    "        self.scale_alpha=V_res/V_th-1\n",
    "        self.t_ref=t_ref  # s\n",
    "        \n",
    "        # about time\n",
    "        self.sim_time=sim_time\n",
    "        self.dt=dt\n",
    "        self.resttime=0\n",
    "        \n",
    "        # logs\n",
    "        self.t_log=[] \n",
    "        self.V_log=[]\n",
    "        self.Input_log=[]\n",
    "        self.ATP_use=[]\n",
    "        self.ATP_produce=[]\n",
    "        self.ATP_log=[]\n",
    "        self.fire_count=[] # the time of spikes\n",
    "        \n",
    "        # Values of morphological features and the amount of energy use of each activity\n",
    "        self.avogadro=6.02214086*10**23\n",
    "        self.elementarycharge=1.60217662*10**(-19) # C\n",
    "        self.Faradey=self.avogadro*self.elementarycharge # seg*A/mol = Coulomb/mol\n",
    "        \n",
    "        self.L_axon=4 # cm  \n",
    "        self.L_dendrite=0.44 # cm \n",
    "        self.D_axon=0.512*10**(-4) # 0.3*10**(-1) # cm\n",
    "        self.D_dendrite=0.9*10**(-4) # cm\n",
    "        self.D_soma=25*10**(-4) # cm\n",
    "        self.Volume_soma=4/3*np.pi*(self.D_soma/2)**3*10**(12)#12660 # um**3\n",
    "        self.Volume_axon=np.pi*(self.D_axon/2)**2*self.L_axon*10**(12) #1000 # um**3\n",
    "        self.Volume_dendrite=np.pi*(self.D_dendrite/2)**2*self.L_dendrite*10**(12) #4349 # um**3\n",
    "        self.Volume_total=(self.Volume_soma+self.Volume_axon+self.Volume_dendrite)*10**(-15) # dm**3 = L\n",
    "        \n",
    "        # The amount of each energy demand (ref:Evaluating the gray and white matter energy budgets of human brain function)\n",
    "        if self.neuron_type=='E':\n",
    "            self.E_housekeeping=5.38*10**5/self.avogadro # mol/ms\n",
    "            self.E_restingpotential=6.82*10**5/self.avogadro # mol/ms\n",
    "            self.E_ap= 2.65*10**8/self.avogadro  # Assuming 1 Hz mol\n",
    "            self.E_ligand= 1.41*10**8/(8000*.25)/self.avogadro # start consuming when a vesicle is released (here we assume a vesicle is released and at the same time ligands are relased from it)\n",
    "            self.E_Ca= 1.16*10**8/(8000*.25)/self.avogadro # start consuming when a vesicle is released\n",
    "        \n",
    "        if self.neuron_type=='I':\n",
    "            self.E_housekeeping=3.55*10**5/self.avogadro # mol/ms\n",
    "            self.E_restingpotential=3.41*10**5/self.avogadro # mol/ms\n",
    "            self.E_ap= 3.09*10**8/self.avogadro/2  # Assuming 2 Hz, so divided by 2\n",
    "            self.E_ligand= 1.82*10**8/(8000*.25)/self.avogadro/2 # start consuming when a vesicle is released (here we assume a vesicle is released and at the same time ligands are relased from it)\n",
    "            self.E_Ca= 2.31*10**8/(8000*.25)/self.avogadro/2 # consumed when a vesicle is released\n",
    "        \n",
    "        self.E_st_E= 15.8*10**8/(8000*.25)/self.avogadro# ref:Evaluating the gray and white matter energy budgets of human brain function\n",
    "        self.E_st_I= 20.5*10**8/(8000*.25)/self.avogadro/2# (divided by 2) ref:Evaluating the gray and white matter energy budgets of human brain function\n",
    "        \n",
    "        # C & g of soma\n",
    "        self.C_m=c_m \n",
    "        self.g_leak=g_leak\n",
    "        self.tau_m=c_m/g_leak\n",
    "\n",
    "        # basal ATP production\n",
    "        self.ATP_basal=(self.E_housekeeping + self.E_restingpotential) # mol/ms\n",
    "        \n",
    "        # tau \n",
    "        self.tau_ap=tau_ap # ms\n",
    "        \n",
    "        \n",
    "    def E_ap_time_delay(self,t):\n",
    "        if len(self.fire_count)>0:\n",
    "            f_array=np.array(self.fire_count)\n",
    "            return sum(self.delay(t,f_array,self.tau_ap))*self.E_ap\n",
    "        else:\n",
    "            return 0\n",
    "        \n",
    "    \n",
    "    def delay(self,t,ti,tau):\n",
    "        if tau==0:\n",
    "            if t==ti[-1]+1:\n",
    "                a=list(np.zeros(len(ti)-1))\n",
    "                return np.array(a+[1])\n",
    "            else:\n",
    "                return np.zeros(len(ti))\n",
    "        \n",
    "        # various kernel functions\n",
    "        else:\n",
    "            if self.delay_func==\"poisson\":\n",
    "                return (t-ti)/(tau**2)*np.exp(-(t-ti)/tau) \n",
    "            \n",
    "    def grad_V(self,V,Input):\n",
    "        #return (-self.g_leak/self.C_m*(V-self.V_res)+Input/self.C_m) # considering [ms] and [mV]\n",
    "        return (-(V-self.EL) + Input/self.g_leak)/(self.tau_m)*1000   \n",
    "        \n",
    "    def beta(self,ATP):\n",
    "        return 1+self.scale_alpha*(2-(2/(1+np.exp(-(self.ATP_h-ATP)/self.ATP_h*self.sensitivity))))\n",
    "    \n",
    "    def train(self,t):\n",
    "        return self.I_ext[int(t/self.dt)]\n",
    "\n",
    "    def Input_func(self,t):\n",
    "        self.Input_log.append(self.train(t))\n",
    "    \n",
    "    def simulate_onestep(self,t,dt):\n",
    "        self.ATP_log.append(self.ATP)  # mol/L\n",
    "        self.V_log.append(self.V)\n",
    "        self.t_log.append(t)\n",
    "    \n",
    "        self.dt=dt\n",
    "        self.Input_func(t)\n",
    "        \n",
    "        # calculate E_ap(t)\n",
    "        E_ap_delay=self.E_ap_time_delay(t)\n",
    "        \n",
    "        if self.ATP==0:\n",
    "          self.V=self.V_th\n",
    "          self.ATP_use.append(0)\n",
    "           \n",
    "\n",
    "        # during refractory time\n",
    "        elif self.resttime>0:\n",
    "            self.resttime-=1\n",
    "            self.ATP_use.append(self.E_restingpotential+self.E_housekeeping+E_ap_delay) \n",
    "                    \n",
    "        \n",
    "        else:\n",
    "            # subthreshold\n",
    "            if self.V<=self.V_th:\n",
    "                x=self.V+self.grad_V(self.V,self.Input_log[-1])*dt*0.001\n",
    "                \n",
    "                # fire\n",
    "                if x>=self.V_th:\n",
    "                    # describe each release site's activity\n",
    "                    self.V=self.V_ap\n",
    "                    self.ATP_use.append(E_ap_delay+self.E_housekeeping)\n",
    "                    self.fire_count.append(t/1000)\n",
    "                    \n",
    "                # subthreshold dynamics    \n",
    "                else:\n",
    "                    self.V=x\n",
    "                    self.ATP_use.append(self.E_restingpotential+E_ap_delay+self.E_housekeeping)\n",
    "                    \n",
    "            \n",
    "            # reset         \n",
    "            else:\n",
    "                self.V=self.beta(self.ATP)*self.V_th\n",
    "                self.resttime=self.t_ref/dt\n",
    "                self.ATP_use.append(self.E_restingpotential +E_ap_delay+self.E_housekeeping)\n",
    "                \n",
    "        # ATP use and supply\n",
    "        ATP_consume=self.ATP_use[-1]/self.Volume_total # mol/(L s)    \n",
    "        \n",
    "        if self.half_step==True:\n",
    "            # consume ATP\n",
    "            self.ATP-=ATP_consume*dt\n",
    "            # produce ATP\n",
    "            if self.ATP<=self.ATP_h:\n",
    "                ATP_produce=self.K*(self.ATP_h-self.ATP)  # mol/L \n",
    "                production_max=300*self.ATP_basal/self.Volume_total\n",
    "                if ATP_produce<=production_max:\n",
    "                    ATP_produce=ATP_produce\n",
    "                else:\n",
    "                    ATP_produce=production_max  \n",
    "            else:\n",
    "              ATP_produce=0\n",
    "              \n",
    "            self.ATP+=ATP_produce*dt\n",
    "                \n",
    "        else:    \n",
    "            # produce ATP\n",
    "            if self.ATP<=self.ATP_h:\n",
    "                if self.ATP==0:\n",
    "                  ATP_produce=0\n",
    "                else:\n",
    "                  ATP_produce=self.K*(self.ATP_h-self.ATP)  # mol/(L ms)\n",
    "                production_max=300*self.ATP_basal/self.Volume_total\n",
    "                if ATP_produce<=production_max:\n",
    "                  ATP_produce=ATP_produce\n",
    "                else:\n",
    "                    ATP_produce=production_max\n",
    "            else:\n",
    "              ATP_produce=0\n",
    "              \n",
    "            self.ATP+=(ATP_produce - ATP_consume)*dt\n",
    "        if self.ATP<0:\n",
    "          self.ATP=0\n",
    "        self.ATP_produce.append(ATP_produce*self.Volume_total)  # mol/ms  "
   ]
  },
  {
   "cell_type": "markdown",
   "metadata": {
    "colab_type": "text",
    "id": "PuIm2SIphDFh"
   },
   "source": [
    "##Optimization\n",
    "We used data from \"Quantitative Single Neuron Modeling Competition\n",
    "2009\". Since test data isn's avalilable in the github (https://github.com/INCF/QSNMC), we only used training data. \n",
    "\n",
    "1. \"The quantitative single-neuron modeling competition.\"\n",
    "Biol Cybern. 2008 Nov; 99(4-5):417-26.\n",
    "Jolivet R, Schürmann F, Berger TK, Naud R, Gerstner W, Roth A.\n",
    "\n",
    "2. \"Quantitative Single-Neuron Modeling: Competition 2009\"\n",
    "Neuroinformatics 2009.  \n",
    "Naud R, Berger T, Bathellier B, Carandini M, Gerstner W.  \n"
   ]
  },
  {
   "cell_type": "markdown",
   "metadata": {
    "colab_type": "text",
    "id": "CGplORaCykWx"
   },
   "source": [
    "###The data used for optimization"
   ]
  },
  {
   "cell_type": "markdown",
   "metadata": {
    "colab_type": "text",
    "id": "H6hzUq6xZ_EN"
   },
   "source": [
    "####The structure of training data\n",
    "The training data consists of injected current and voltage. The [Hz] of recording is 10000 which means time step is 0.1 [ms]. Total duration of stimulation is 60.0001 [s]. Voltage data is including 13 trials of the same stimulation with the 39 [s] of duration and we obtained spike timing from these trials using AnalogSignal class of NeuroTools module. The noise starts at around 15 [s]. \n",
    "\n",
    "We divided 13 spike trains data into 10 for training and 3 for test and suffled the order 5 times which means we carried out k-fold cross validation."
   ]
  },
  {
   "cell_type": "code",
   "execution_count": 8,
   "metadata": {
    "colab": {},
    "colab_type": "code",
    "id": "jIfcvMVHF_y0"
   },
   "outputs": [],
   "source": [
    "# load and organize training data from QSNMC\n",
    "full_path = '.'\n",
    "\n",
    "def load_training_data(pickled=True):\n",
    "    if pickled:\n",
    "        current_pickle_path = '%s/current.pickle' % full_path\n",
    "        voltage_pickle_path = '%s/voltage_allrep.pickle' % full_path\n",
    "        if not (os.path.isfile(current_pickle_path) \\\n",
    "                and os.path.isfile(voltage_pickle_path)):\n",
    "            print(\"Pickled data not found; pickling from raw data files...\")\n",
    "            pickle_training_data()\n",
    "        print(\"Loading training data from pickled files...\")\n",
    "        with open(current_pickle_path,'rb') as f:\n",
    "            current = pickle.load(f,encoding=\"latin1\")\n",
    "        with open(voltage_pickle_path,'rb') as f:\n",
    "            voltage = pickle.load(f,encoding=\"latin1\")\n",
    "    else:\n",
    "        print(\"Loading training data from raw data files...\")\n",
    "        current = np.loadtxt('%s/current.txt' % full_path)\n",
    "        voltage = np.loadtxt('%s/voltage_allrep.txt' % full_path)\n",
    "    return (current,voltage)\n",
    "dt = 1e-4\n",
    "def get_observation(phase):\n",
    "    if phase == 'training':\n",
    "        load_data = load_training_data\n",
    "    elif phase == 'testing':\n",
    "        load_data = load_testing_data\n",
    "    else:\n",
    "        raise Exception(\"Phase must be 'training' or 'testing'\")\n",
    "    \n",
    "    current_array,voltage_array = load_data() \n",
    "    spike_trains = []\n",
    "    \n",
    "    for col in range(voltage_array.shape[1]):\n",
    "        voltage_trial = voltage_array[:,col]\n",
    "        vm_trial = AnalogSignal(voltage_trial,dt)  \n",
    "        spike_train = vm_trial.threshold_detection(0)\n",
    "        spike_trains.append(spike_train)\n",
    "    \n",
    "    current = AnalogSignal(current_array,dt)\n",
    "    observation = {'current':current,'spike_trains':spike_trains}\n",
    "\n",
    "    return observation"
   ]
  },
  {
   "cell_type": "code",
   "execution_count": 9,
   "metadata": {
    "colab": {
     "base_uri": "https://localhost:8080/",
     "height": 69
    },
    "colab_type": "code",
    "id": "Evpl7I0qJd7o",
    "outputId": "f00056e6-ce72-43cb-f49c-3ffc095ba3f5"
   },
   "outputs": [
    {
     "name": "stdout",
     "output_type": "stream",
     "text": [
      "Loading training data from pickled files...\n",
      "Simulation step [s] :  0.0001\n",
      "Total steps :  600001\n"
     ]
    }
   ],
   "source": [
    "# injected current: 60.0001 s\n",
    "train_data=get_observation('training')\n",
    "current=train_data[\"current\"]\n",
    "i_ext=current.signal\n",
    "dt=current.dt\n",
    "steps=len(i_ext)\n",
    "print(\"Simulation step [s] : \",dt)\n",
    "print(\"Total steps : \",steps)"
   ]
  },
  {
   "cell_type": "code",
   "execution_count": 10,
   "metadata": {
    "colab": {
     "base_uri": "https://localhost:8080/",
     "height": 295
    },
    "colab_type": "code",
    "id": "SQiYIHGxZtjF",
    "outputId": "7e15efdd-afbc-41ec-b63a-e2e1970f79c5"
   },
   "outputs": [
    {
     "data": {
      "image/png": "[encoded data removed]",
      "text/plain": [
       "<Figure size 432x288 with 1 Axes>"
      ]
     },
     "metadata": {
      "needs_background": "light"
     },
     "output_type": "display_data"
    }
   ],
   "source": [
    "plt.title(\"Train stimulation\")\n",
    "plt.xlabel(\"Time [s]\")\n",
    "plt.ylabel(\"Current [pA]\")\n",
    "plt.plot(np.arange(0,60.0001,dt),i_ext)\n",
    "plt.show()"
   ]
  },
  {
   "cell_type": "code",
   "execution_count": 11,
   "metadata": {
    "colab": {
     "base_uri": "https://localhost:8080/",
     "height": 34
    },
    "colab_type": "code",
    "id": "WqDDajTENTHi",
    "outputId": "de45d0e5-b2f1-4171-90ed-dc0a62f6a7a4"
   },
   "outputs": [
    {
     "name": "stdout",
     "output_type": "stream",
     "text": [
      "Duration of Spike train [s] :  39.0\n"
     ]
    }
   ],
   "source": [
    "# Tmax: 39 s\n",
    "spike_train=train_data[\"spike_trains\"]\n",
    "T_max=0\n",
    "for train in spike_train:\n",
    "  T_max=max(T_max,train.duration())\n",
    "  \n",
    "T_total=T_max\n",
    "print(\"Duration of Spike train [s] : \",T_total)"
   ]
  },
  {
   "cell_type": "code",
   "execution_count": 12,
   "metadata": {
    "colab": {
     "base_uri": "https://localhost:8080/",
     "height": 330
    },
    "colab_type": "code",
    "id": "q-cD-BjS1tRz",
    "outputId": "a9c69908-4f00-4584-c6d5-41bc91458422"
   },
   "outputs": [
    {
     "name": "stdout",
     "output_type": "stream",
     "text": [
      "Loading training data from pickled files...\n"
     ]
    },
    {
     "data": {
      "text/plain": [
       "[<matplotlib.lines.Line2D at 0x23b886eb0f0>]"
      ]
     },
     "execution_count": 12,
     "metadata": {},
     "output_type": "execute_result"
    },
    {
     "data": {
      "image/png": "[encoded data removed]",
      "text/plain": [
       "<Figure size 432x288 with 1 Axes>"
      ]
     },
     "metadata": {
      "needs_background": "light"
     },
     "output_type": "display_data"
    }
   ],
   "source": [
    "i=3\n",
    "current_array,voltage_array = load_training_data()\n",
    "vol=voltage_array[:,i]\n",
    "tt=np.arange(0,len(vol),1)\n",
    "plt.title('Voltage of training trial %s.'% i)\n",
    "plt.xlabel('Time [s]')\n",
    "plt.ylabel('Membrane potential [mV]')\n",
    "plt.plot(tt/10000,vol)    "
   ]
  },
  {
   "cell_type": "markdown",
   "metadata": {
    "colab_type": "text",
    "id": "he9ovCpK0U_0"
   },
   "source": [
    "#### Time step for simulation of models\n",
    "The time step for our optimization and simulation is set to 1 [ms]. For this reason, we reshaped the current data. The simulation duration is the same as the one of voltage data, 39 [s]."
   ]
  },
  {
   "cell_type": "code",
   "execution_count": 13,
   "metadata": {
    "colab": {},
    "colab_type": "code",
    "id": "yf_v2Md179Ft"
   },
   "outputs": [],
   "source": [
    "# extract current of each 1 ms\n",
    "I_ext=list(i_ext)[::int(1/(dt*1000))]"
   ]
  },
  {
   "cell_type": "code",
   "execution_count": 14,
   "metadata": {
    "colab": {
     "base_uri": "https://localhost:8080/",
     "height": 330
    },
    "colab_type": "code",
    "id": "uypOlEaplUX8",
    "outputId": "54871c85-3110-495b-d1fb-48fcfd7daa31"
   },
   "outputs": [
    {
     "name": "stderr",
     "output_type": "stream",
     "text": [
      "100%|████████████████████████████████████████████████████████████████████████████████████████████| 39000/39000 [00:00<00:00, 59975.99it/s]\n"
     ]
    },
    {
     "data": {
      "text/plain": [
       "[<matplotlib.lines.Line2D at 0x23b8777ea20>]"
      ]
     },
     "execution_count": 14,
     "metadata": {},
     "output_type": "execute_result"
    },
    {
     "data": {
      "image/png": "[encoded data removed]",
      "text/plain": [
       "<Figure size 432x288 with 1 Axes>"
      ]
     },
     "metadata": {
      "needs_background": "light"
     },
     "output_type": "display_data"
    }
   ],
   "source": [
    "# Check LIF model\n",
    "LIF=lif(I_ext=I_ext,dt=1,sim_time=T_max*1000,V=-65,V_res=-70,EL=-70,c_m=281,\n",
    "        g_leak=30,V_th=-50,V_ap=40,t_ref=2.5)\n",
    "tt=np.arange(0,T_max*1000,1)\n",
    "pbar=tqdm(total=len(tt))\n",
    "for t in tt:\n",
    "  LIF.simulate_onestep(t,1)\n",
    "  pbar.update(1)\n",
    "pbar.close()\n",
    "plt.title('Voltage of LIF model')\n",
    "plt.xlabel('Time [s]')\n",
    "plt.ylabel('Membrane potential [mV]')\n",
    "plt.plot(tt/1000,LIF.V_log)"
   ]
  },
  {
   "cell_type": "code",
   "execution_count": 15,
   "metadata": {
    "colab": {
     "base_uri": "https://localhost:8080/",
     "height": 330
    },
    "colab_type": "code",
    "id": "_4k1XWtInCBB",
    "outputId": "26195994-6bf6-4eca-8138-99d29253df1d"
   },
   "outputs": [
    {
     "name": "stderr",
     "output_type": "stream",
     "text": [
      "100%|█████████████████████████████████████████████████████████████████████████████████████████████| 39000/39000 [00:11<00:00, 3260.86it/s]\n"
     ]
    },
    {
     "data": {
      "text/plain": [
       "[<matplotlib.lines.Line2D at 0x23b880ad5c0>]"
      ]
     },
     "execution_count": 15,
     "metadata": {},
     "output_type": "execute_result"
    },
    {
     "data": {
      "image/png": "[encoded data removed]",
      "text/plain": [
       "<Figure size 432x288 with 1 Axes>"
      ]
     },
     "metadata": {
      "needs_background": "light"
     },
     "output_type": "display_data"
    }
   ],
   "source": [
    "# Check EDLIF model\n",
    "EDLIF=edlif(I_ext=I_ext,neuron_type='E',dt=1,sim_time=T_max*1000,delay_func=\"poisson\",\n",
    "            K=1,ATP=10**(-4),ATP_h=10**(-4),half_step=False,sensitivity=1000,V=-65,\n",
    "            V_res=-70,EL=-70,c_m=200,g_leak=20,V_th=-50,V_ap=40,t_ref=10,tau_ap=50)\n",
    "tt=np.arange(0,T_max*1000,1)\n",
    "pbar=tqdm(total=len(tt))\n",
    "for t in tt:\n",
    "  EDLIF.simulate_onestep(t,1)\n",
    "  pbar.update(1)\n",
    "pbar.close()\n",
    "plt.title('Voltage of EDLIF model')\n",
    "plt.xlabel('Time [s]')\n",
    "plt.ylabel('Membrane potential [mV]')\n",
    "plt.plot(tt/1000,EDLIF.V_log)"
   ]
  },
  {
   "cell_type": "markdown",
   "metadata": {
    "colab_type": "text",
    "id": "tE7_migY3NFl"
   },
   "source": [
    "###Particle Swarm Optimization\n",
    "This model for optimization is based on the stragetic movement of a swarm of beas, fishes, birds or so on. \n",
    "\n",
    "According to Wikipedia, the explaination is like this;\n",
    "\n",
    "In computational science, particle swarm optimization (PSO) is a computational method that optimizes a problem by iteratively trying to improve a candidate solution with regard to a given measure of quality. It solves a problem by having a population of candidate solutions, here dubbed particles, and moving these particles around in the search-space according to simple mathematical formulae over the particle's position and velocity. Each particle's movement is influenced by its local best known position, but is also guided toward the best known positions in the search-space, which are updated as better positions are found by other particles. This is expected to move the swarm toward the best solutions.\n",
    "\n",
    "PSO is originally attributed to Kennedy, Eberhart and Shi and was first intended for simulating social behaviour, as a stylized representation of the movement of organisms in a bird flock or fish school. The algorithm was simplified and it was observed to be performing optimization. The book by Kennedy and Eberhart describes many philosophical aspects of PSO and swarm intelligence. An extensive survey of PSO applications is made by Poli. Recently, a comprehensive review on theoretical and experimental works on PSO has been published by Bonyadi and Michalewicz.\n",
    "\n",
    "PSO is a metaheuristic as it makes few or no assumptions about the problem being optimized and can search very large spaces of candidate solutions. However, metaheuristics such as PSO do not guarantee an optimal solution is ever found. Also, PSO does not use the gradient of the problem being optimized, which means PSO does not require that the optimization problem be differentiable as is required by classic optimization methods such as gradient descent and quasi-newton methods.\n",
    "(https://en.wikipedia.org/wiki/Particle_swarm_optimization)"
   ]
  },
  {
   "cell_type": "markdown",
   "metadata": {
    "colab_type": "text",
    "id": "vVxQcEPJ6FNo"
   },
   "source": [
    "####Initial positions & Time-changing $w$\n",
    "We set normal distribution whose bounds are equal to the ones given to the space where each individual is exploring. \n",
    "\n",
    "The weight of inertia vector $w$ is set to the inverse exponential function so that at the first individuals can explore the space enough and at the end they can converge to the best position appropriately."
   ]
  },
  {
   "cell_type": "code",
   "execution_count": 16,
   "metadata": {
    "colab": {
     "base_uri": "https://localhost:8080/",
     "height": 315
    },
    "colab_type": "code",
    "id": "3uzMyMMJ9beG",
    "outputId": "07d248dc-24eb-4039-b3a0-c8e7250c198a"
   },
   "outputs": [
    {
     "data": {
      "text/plain": [
       "[<matplotlib.lines.Line2D at 0x23b8870a470>]"
      ]
     },
     "execution_count": 16,
     "metadata": {},
     "output_type": "execute_result"
    },
    {
     "data": {
      "image/png": "[encoded data removed]",
      "text/plain": [
       "<Figure size 432x288 with 1 Axes>"
      ]
     },
     "metadata": {
      "needs_background": "light"
     },
     "output_type": "display_data"
    }
   ],
   "source": [
    "Iter=100\n",
    "def w(i):\n",
    "  return np.exp(-i/Iter)\n",
    "ii=np.arange(0,Iter,1)\n",
    "plt.title(\"Time-changing $w$\")\n",
    "plt.xlabel('Iteration')\n",
    "plt.ylabel('$w$')\n",
    "plt.plot(ii,w(ii))"
   ]
  },
  {
   "cell_type": "code",
   "execution_count": 17,
   "metadata": {
    "colab": {},
    "colab_type": "code",
    "id": "AIxmE1ZJcqDd"
   },
   "outputs": [],
   "source": [
    "class Particle:\n",
    "  def __init__(self,x,index,c1,c2,precision):\n",
    "    self.dim=len(x)\n",
    "    self.pos_i=x\n",
    "    self.vel_i=np.random.uniform(-1,1,self.dim)\n",
    "    self.pos_best_i=[]\n",
    "    self.err_best_i=1\n",
    "    self.err_i=1\n",
    "    self.c1=c1\n",
    "    self.c2=c2\n",
    "    self.index=index\n",
    "    self.precision=precision\n",
    "  \n",
    "  def evaluate(self,costFunc):\n",
    "    self.err_i=costFunc(self.pos_i,self.index,self.precision)\n",
    "\n",
    "    # update pos_best_i and err_best_i\n",
    "    if self.err_i < self.err_best_i:\n",
    "      self.pos_best_i=self.pos_i\n",
    "      self.err_best_i=self.err_i\n",
    "\n",
    "  def update_vel(self,pos_best_g,w):\n",
    "    r1=np.random.random(self.dim)\n",
    "    r2=np.random.random(self.dim)\n",
    "    vel_cognitive=self.c1*r1*(np.array(self.pos_best_i)-np.array(self.pos_i))\n",
    "    vel_social=self.c2*r2*(np.array(pos_best_g)-np.array(self.pos_i))\n",
    "    self.vel_i=w*self.vel_i+vel_cognitive+vel_social\n",
    "\n",
    "  def update_pos(self,bounds):\n",
    "    self.pos_i+=self.vel_i\n",
    "\n",
    "    for i in range(self.dim):\n",
    "      if self.pos_i[i] > bounds[i][1]:\n",
    "        self.pos_i[i] = bounds[i][1]\n",
    "      if self.pos_i[i] < bounds[i][0]:\n",
    "        self.pos_i[i] = bounds[i][0]\n",
    "\n",
    "class PSO():\n",
    "  def __init__(self,costFunc,bounds,N,iter,index,c1,c2,precision):\n",
    "    self.err_log=np.zeros((N,iter))\n",
    "    xdim=len(bounds)\n",
    "    \n",
    "    self.pos_best_g=[]\n",
    "    \n",
    "    err_best_g=1\n",
    "    \n",
    "    swarm=[]\n",
    "    for i in range(N):\n",
    "      xx=[]\n",
    "      for d in range(xdim):\n",
    "        xx.append(np.random.uniform(bounds[d][0],bounds[d][1]))\n",
    "      swarm.append(Particle(xx,index,c1,c2,precision))\n",
    "      \n",
    "    print(\"Birds are exploring....\")\n",
    "    i=0\n",
    "    \n",
    "    pbar=tqdm(total=iter*N)    \n",
    "    while i < iter:\n",
    "      w=np.exp(-i/iter)\n",
    "        \n",
    "      for j in range(N):\n",
    "        swarm[j].evaluate(costFunc)\n",
    "        self.err_log[j,i]=swarm[j].err_i\n",
    "        \n",
    "        if swarm[j].err_i < err_best_g:\n",
    "          self.pos_best_g = copy.deepcopy(swarm[j].pos_i)\n",
    "          err_best_g = swarm[j].err_i\n",
    "        pbar.update(1)\n",
    "      print(\"Best position so far : \",self.pos_best_g)\n",
    "      print(\"Best error so far : \",err_best_g)  \n",
    "      if xdim==3:\n",
    "        plt.ion()\n",
    "        fig=plt.figure()\n",
    "        ax=fig.add_subplot(111,projection='3d')\n",
    "        ax.set_xlabel('C_m')\n",
    "        ax.set_ylabel('g_leak')\n",
    "        ax.set_zlabel('t_ref')\n",
    "        ax.set_xlim(bounds[0])\n",
    "        ax.set_ylim(bounds[1])\n",
    "        ax.set_zlim(bounds[2])\n",
    "        positions=np.zeros((xdim,N))\n",
    "        for n in range(N):\n",
    "          for d in range(xdim):\n",
    "            positions[d,n]=swarm[n].pos_i[d]\n",
    "        X=list(positions[0,:])\n",
    "        Y=list(positions[1,:])\n",
    "        Z=list(positions[2,:])\n",
    "        ax.scatter(X,Y,Z,cmap='viridis',marker='o')\n",
    "        ax.scatter(self.pos_best_g[0],self.pos_best_g[1],self.pos_best_g[2],color='r',marker='^')\n",
    "        plt.draw()\n",
    "        plt.show()\n",
    "        \n",
    "      for j in range(N):\n",
    "        swarm[j].update_vel(self.pos_best_g,w)\n",
    "        swarm[j].update_pos(bounds)\n",
    "        \n",
    "      \n",
    "      i+=1\n",
    "    pbar.close()  \n",
    "        \n",
    "    print(\"Iteration :\",iter)\n",
    "    print(\"Optimized parameters :\",self.pos_best_g)\n",
    "    print(\"Minimum error :\",err_best_g)\n",
    "    plt.title(\"Error value of each particle\")\n",
    "    plt.xlabel(\"Iteration\")\n",
    "    plt.ylabel(\"Error\")\n",
    "    for i in range(N):\n",
    "      plt.plot(range(iter),self.err_log[i,:])\n",
    "    plt.show()\n"
   ]
  },
  {
   "cell_type": "markdown",
   "metadata": {
    "colab_type": "text",
    "id": "9yZ7hSd3JePr"
   },
   "source": [
    "####Cost Fucntion\n",
    "Ref: \"A benchmark test for a quantitative assessment\n",
    "of simple neuron models\"\n",
    "\n",
    "In order to measure the similarity or dissimilarity between\n",
    "two spike trains and assess the quality of the predictions of\n",
    "models, we need a measure to compare spike trains as\n",
    "predicted by the model to spike trains as generated by the original cell. \n",
    "\n",
    "In precedent reports, some of us have consistently used the coincidence factor $\\Gamma$ as defined in Refs. (Clopath et al., 2007; Jolivet and Gerstner, 2004; Jolivet et al., 2004, 2006; Kistler et al., 1997).\n",
    "\n",
    "The coincidence factor can be computed quickly and easily. It is written;\n",
    "\\begin{equation}\n",
    "\\Gamma_k=\\frac{N_{coinc}-<N_{coinc}>}{1/2(N_{ref}^k+N_{model})}\\frac{1}{N}\n",
    "\\end{equation}\n",
    "where $N_{data}^k$ is the number of spike in the $k$th traial of reference spike trains, $N_{model}$ is that in the predicted spike train obtained from models. $N_{coinc}$ is the number of coincidences with precision $\\Delta$ between two spike trains, and $<N_{coinc}>=2f\\Delta N_{ref}^k$ is the expected number of coincidences generated by a homogenous Poisson process with the same rate $f$ as the spike train of models. The factor $N=[1-2f\\Delta]$ normalizes $\\Gamma$ to a maximum value of one which is reched only if two spike trains are the same with precision $\\Delta$.\n",
    "\n",
    "For training, as written above, we used 10 trials and averaged this score dividing it by the number of data (10). According to the reference, it's called 'Raw $\\Gamma$' "
   ]
  },
  {
   "cell_type": "code",
   "execution_count": 18,
   "metadata": {
    "colab": {},
    "colab_type": "code",
    "id": "J00S6_kEpWTF"
   },
   "outputs": [],
   "source": [
    "def N_coinc(spike_model,spike_ref,precision):\n",
    "  n_coinc=0\n",
    "  for sr in spike_ref:\n",
    "    coinc_ref=0\n",
    "    for sm in spike_model:\n",
    "      if coinc_ref==1:\n",
    "        coinc_ref=1\n",
    "      elif sm <= sr+precision and sm >= sr-precision:\n",
    "        coinc_ref+=1\n",
    "    n_coinc+=coinc_ref\n",
    "      \n",
    "  return n_coinc\n",
    "\n",
    "def gamma(spike_model,spike_ref,precision):\n",
    "  N_ref=len(spike_ref)\n",
    "  N_model=len(spike_model)\n",
    "  r=N_model/T_max\n",
    "  N_coinc_expected=2*r*N_ref*precision\n",
    "  N_norm=1-2*r*precision\n",
    "  return 1/N_norm*(N_coinc(spike_model,spike_ref,precision)-N_coinc_expected)/(0.5*(N_ref+N_model))"
   ]
  },
  {
   "cell_type": "markdown",
   "metadata": {
    "colab_type": "text",
    "id": "DYqzJmMYaal8"
   },
   "source": [
    "#####$\\Delta$ & $\\Gamma$\n",
    "If we compare two spike trains obtained from reliable model and from reference, $\\Delta$ doesn't affect the score so much with some range, but in case of models which perform badly, it does. By convention, $\\Delta=2 [ms]$ is thought to be appropriate and we chose the value."
   ]
  },
  {
   "cell_type": "code",
   "execution_count": 19,
   "metadata": {
    "colab": {},
    "colab_type": "code",
    "id": "6TxyauKmcn_Q"
   },
   "outputs": [],
   "source": [
    "precision=0.002"
   ]
  },
  {
   "cell_type": "markdown",
   "metadata": {
    "colab_type": "text",
    "id": "wQgc9mdniQ7I"
   },
   "source": [
    "###Optimization of LIF model"
   ]
  },
  {
   "cell_type": "markdown",
   "metadata": {
    "colab_type": "text",
    "id": "IuhpOVRZikjT"
   },
   "source": [
    "####Parameters to optimize\n",
    "We optimized these parameters;\n",
    "\n",
    "C_m: Membrane capacitance [pF]\n",
    "\n",
    "g_leak: Membrane conductance [nS]\n",
    "\n",
    "t_ref: Refractory term duration [ms]\n",
    "\n",
    "V_th: Threshold potential [mV]\n",
    "\n",
    "V_reset: Reset potential [mV]"
   ]
  },
  {
   "cell_type": "markdown",
   "metadata": {
    "colab_type": "text",
    "id": "XzCSkBESef2V"
   },
   "source": [
    "###Optimization of EDLIF model"
   ]
  },
  {
   "cell_type": "markdown",
   "metadata": {
    "colab_type": "text",
    "id": "n3kvLtbgkpmL"
   },
   "source": [
    "####Parameters to optimize\n",
    "We optimized these parameters;\n",
    "\n",
    "C_m: Membrane capacitance [pF]\n",
    "\n",
    "g_leak: Membrane conductance [nS]\n",
    "\n",
    "t_ref: Refractory term duration [ms]\n",
    "\n",
    "V_th: Threshold potential [mV]\n",
    "\n",
    "V_reset: Reset potential [mV]\n",
    "\n",
    "sensitivity: The free parameter of $\\beta(ATP)$ [unitless]"
   ]
  },
  {
   "cell_type": "code",
   "execution_count": 20,
   "metadata": {
    "colab": {},
    "colab_type": "code",
    "id": "4WDPEfkAZ4XR"
   },
   "outputs": [],
   "source": [
    "# we can run k-fold cross validation by changing \"index\"\n",
    "train_index=[2,3,4,5,6,7,8,9,10,11,12]\n",
    "test_index=[0,1]\n"
   ]
  },
  {
   "cell_type": "code",
   "execution_count": 21,
   "metadata": {
    "colab": {},
    "colab_type": "code",
    "id": "zDrDohkX5seb"
   },
   "outputs": [],
   "source": [
    "def costFunc2(x,index,precision):\n",
    "  c=x[0]\n",
    "  g=x[1]\n",
    "  t_ref=x[2]\n",
    "  V_th=x[3]\n",
    "  V_res=x[4]\n",
    "  sensitivity=x[5]\n",
    "  EDLIF=edlif(c_m=c,g_leak=g,t_ref=t_ref,V_th=V_th,V_res=V_res,I_ext=I_ext,sensitivity=sensitivity)\n",
    "  tt=np.arange(0,T_max*1000,1)\n",
    "  for t in tt:\n",
    "    EDLIF.simulate_onestep(t,1)\n",
    "  GAMMA=0\n",
    "  for p in index:\n",
    "    GAMMA+=gamma(EDLIF.fire_count,spike_train[p].spike_times,precision)\n",
    "  GAMMA/=len(index)\n",
    "  return 1-GAMMA"
   ]
  },
  {
   "cell_type": "code",
   "execution_count": null,
   "metadata": {
    "colab": {},
    "colab_type": "code",
    "id": "goQN_ypYrIsz",
    "scrolled": true
   },
   "outputs": [
    {
     "name": "stdout",
     "output_type": "stream",
     "text": [
      "Birds are exploring....\n"
     ]
    },
    {
     "name": "stderr",
     "output_type": "stream",
     "text": [
      " 10%|█████████▎                                                                                   | 300/3000 [4:58:40<33:52:57, 45.18s/it]"
     ]
    },
    {
     "name": "stdout",
     "output_type": "stream",
     "text": [
      "Best position so far :  [282.7702450071712, 28.549564878758527, 9.383245474052458, -51.40969677114346, -65.63268940979508, 194.45674537203138]\n",
      "Best error so far :  0.763725315849866\n"
     ]
    },
    {
     "name": "stderr",
     "output_type": "stream",
     "text": [
      " 20%|██████████████████▌                                                                          | 600/3000 [7:01:33<15:07:29, 22.69s/it]"
     ]
    },
    {
     "name": "stdout",
     "output_type": "stream",
     "text": [
      "Best position so far :  [283.82667538  25.81094408   7.8759969  -50.         -69.40906694\n",
      " 191.24637749]\n",
      "Best error so far :  0.7627176407894569\n"
     ]
    },
    {
     "name": "stderr",
     "output_type": "stream",
     "text": [
      " 30%|███████████████████████████▉                                                                 | 900/3000 [8:45:15<10:08:18, 17.38s/it]"
     ]
    },
    {
     "name": "stdout",
     "output_type": "stream",
     "text": [
      "Best position so far :  [255.83743102  26.56005201  10.         -50.         -70.53803263\n",
      " 100.        ]\n",
      "Best error so far :  0.7588534713932955\n"
     ]
    },
    {
     "name": "stderr",
     "output_type": "stream",
     "text": [
      " 40%|████████████████████████████████████▊                                                       | 1200/3000 [10:15:29<6:38:20, 13.28s/it]"
     ]
    },
    {
     "name": "stdout",
     "output_type": "stream",
     "text": [
      "Best position so far :  [255.83743102  26.56005201  10.         -50.         -70.53803263\n",
      " 100.        ]\n",
      "Best error so far :  0.7588534713932955\n"
     ]
    },
    {
     "name": "stderr",
     "output_type": "stream",
     "text": [
      " 50%|██████████████████████████████████████████████                                              | 1500/3000 [11:57:48<6:04:33, 14.58s/it]"
     ]
    },
    {
     "name": "stdout",
     "output_type": "stream",
     "text": [
      "Best position so far :  [244.09615275  27.10826533  10.         -50.         -74.78666362\n",
      " 100.        ]\n",
      "Best error so far :  0.7554565796751833\n"
     ]
    },
    {
     "name": "stderr",
     "output_type": "stream",
     "text": [
      " 60%|███████████████████████████████████████████████████████▏                                    | 1800/3000 [13:47:24<6:44:10, 20.21s/it]"
     ]
    },
    {
     "name": "stdout",
     "output_type": "stream",
     "text": [
      "Best position so far :  [244.09615275  27.10826533  10.         -50.         -74.78666362\n",
      " 100.        ]\n",
      "Best error so far :  0.7554565796751833\n"
     ]
    },
    {
     "name": "stderr",
     "output_type": "stream",
     "text": [
      " 70%|████████████████████████████████████████████████████████████████▍                           | 2100/3000 [15:23:47<5:36:40, 22.45s/it]"
     ]
    },
    {
     "name": "stdout",
     "output_type": "stream",
     "text": [
      "Best position so far :  [244.09615275  27.10826533  10.         -50.         -74.78666362\n",
      " 100.        ]\n",
      "Best error so far :  0.7554565796751833\n"
     ]
    },
    {
     "name": "stderr",
     "output_type": "stream",
     "text": [
      " 80%|█████████████████████████████████████████████████████████████████████████▌                  | 2400/3000 [17:00:03<3:01:52, 18.19s/it]"
     ]
    },
    {
     "name": "stdout",
     "output_type": "stream",
     "text": [
      "Best position so far :  [244.09615275  27.10826533  10.         -50.         -74.78666362\n",
      " 100.        ]\n",
      "Best error so far :  0.7554565796751833\n"
     ]
    },
    {
     "name": "stderr",
     "output_type": "stream",
     "text": [
      " 90%|██████████████████████████████████████████████████████████████████████████████████▊         | 2700/3000 [18:24:50<1:26:00, 17.20s/it]"
     ]
    },
    {
     "name": "stdout",
     "output_type": "stream",
     "text": [
      "Best position so far :  [244.09615275  27.10826533  10.         -50.         -74.78666362\n",
      " 100.        ]\n",
      "Best error so far :  0.7554565796751833\n"
     ]
    },
    {
     "name": "stderr",
     "output_type": "stream",
     "text": [
      " 98%|███████████████████████████████████████████████████████████████████████████████████████████▋  | 2926/3000 [19:33:24<35:16, 28.60s/it]"
     ]
    }
   ],
   "source": [
    "bounds=[[100,400],[10,40],[1,10],[-60,-50],[-80,-60],[100,1300]]\n",
    "pso=PSO(costFunc=costFunc2,bounds=bounds,index=train_index,N=300,iter=10,c1=1,c2=2,precision=precision)\n",
    "x2 = pso.pos_best_g\n",
    "costFunc2(x2,test_index,precision)"
   ]
  },
  {
   "cell_type": "markdown",
   "metadata": {
    "colab_type": "text",
    "id": "LD0vFzUpvMGU"
   },
   "source": [
    "##Conclusions\n",
    "We could obrbtain much better performance than the simple Leaky integrate-and-fire model.\n",
    "\n",
    "The values of parameters of each model were obtained by Particle Swarm Optimization.\n",
    "\n",
    "The funny thing is the value of sensitivity in Energy-dependent leaky intengrate-and-fire model is 1000 which indicates neurons are so sensitive to ATP changes. \n",
    "\n",
    "Through our optimization of EDLIF model, we only consider the change of reset potential as a new factor and thus this optimized partial reset function may includes other factors. But it is the fact that partial reset dependent on the ATP changes (or what are strongly relating to it showing similar kinetics of ATP) has a huge impact on generating spikes and a fundamental function for replicating real data."
   ]
  }
 ],
 "metadata": {
  "accelerator": "GPU",
  "colab": {
   "collapsed_sections": [],
   "name": "Energy_project.ipynb",
   "provenance": []
  },
  "kernelspec": {
   "display_name": "Python 3",
   "language": "python",
   "name": "python3"
  },
  "language_info": {
   "codemirror_mode": {
    "name": "ipython",
    "version": 3
   },
   "file_extension": ".py",
   "mimetype": "text/x-python",
   "name": "python",
   "nbconvert_exporter": "python",
   "pygments_lexer": "ipython3",
   "version": "3.7.3"
  },
  "toc": {
   "base_numbering": 1,
   "nav_menu": {},
   "number_sections": true,
   "sideBar": true,
   "skip_h1_title": false,
   "title_cell": "Table of Contents",
   "title_sidebar": "Contents",
   "toc_cell": false,
   "toc_position": {},
   "toc_section_display": true,
   "toc_window_display": false
  }
 },
 "nbformat": 4,
 "nbformat_minor": 1
}
